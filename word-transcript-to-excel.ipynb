{
 "cells": [
  {
   "cell_type": "markdown",
   "id": "b2f4935c-cb3d-42e8-a9e4-533a708d7383",
   "metadata": {},
   "source": [
    "# Convert Word (Transcript) to DataFrame\n",
    "\n",
    "Transcription using MS Word creates a format where timestamp and speaker are on one line, and the utterance is on the next. This notebook converts this format (from a Word docx file) to a CSV or Excel file by first converting it into a Pandas DataFrame first."
   ]
  },
  {
   "cell_type": "code",
   "execution_count": 1,
   "id": "3e97690b-24ba-405a-a8a5-5e05555a5c17",
   "metadata": {},
   "outputs": [],
   "source": [
    "import docx2txt\n",
    "import pandas as pd\n",
    "from IPython.display import display, Markdown"
   ]
  },
  {
   "cell_type": "markdown",
   "id": "2b2e0fe4-81cd-4ebc-9c9d-c305d04492f4",
   "metadata": {},
   "source": [
    "### Get relevant text from the Word Doc\n",
    "The Word document often contains some preamble, typically followed by the word `Transcript` after which the transcript begins. Test this assumption by printing the contents of the variable `text` below. If this is correct, then only extract the text _after_ the word 'Transcript'."
   ]
  },
  {
   "cell_type": "code",
   "execution_count": 2,
   "id": "2a3facdb-4e49-4aad-92e2-29985ed79435",
   "metadata": {},
   "outputs": [],
   "source": [
    "text = docx2txt.process(\"data/transcript_edi_daniel_george.docx\")\n",
    "transcript = text.split(\"Transcript\")[-1]"
   ]
  },
  {
   "cell_type": "markdown",
   "id": "970d7329-09e1-40ee-b123-c7b2a286cb72",
   "metadata": {},
   "source": [
    "### Clean up the text\n",
    "A number of carriage returns will be in the text file. This is useful to split up the file into lines, so the code below does the following:\n",
    "1. Splits the text into lines where a line is either a `timestamp, speaker` combo an `utterance`, or an empty line (in case of multiple successive carriage returns;\n",
    "2. Removes all empty lines;\n",
    "3. Replaces all non-breaking spaces (unicode: `\\xa0`)\n",
    "4. Splits the `'timestamp, speaker'` string combination into a list with `['timestamp', 'speaker']` in it."
   ]
  },
  {
   "cell_type": "code",
   "execution_count": 3,
   "id": "ad76aaac-e9f2-469f-9cf1-084774c4b5f4",
   "metadata": {},
   "outputs": [],
   "source": [
    "transcript_list = transcript.split(\"\\n\")\n",
    "transcript_list = [s.strip() for s in transcript_list if len(s.strip()) > 0]\n",
    "transcript_list = [s.replace('\\xa0',  ' ') for s in transcript_list]\n",
    "transcript_list = [s.split(' ') if len(s.split(':')) > 2 else s for s in transcript_list]"
   ]
  },
  {
   "cell_type": "code",
   "execution_count": 4,
   "id": "fc3eed88-28bb-4514-be94-c4037c85360f",
   "metadata": {},
   "outputs": [
    {
     "name": "stdout",
     "output_type": "stream",
     "text": [
      "Remove last item if it is incomplete.\n",
      "--------------------------- LAST 4 LINES ---------------------------\n",
      "['00:44:34', 'George']\n",
      "Yeah, yeah, good. I'm stopping this as well.\n",
      "['00:44:35', 'Yuxuan']\n",
      "Perfect.\n",
      "-------------------------------- END -------------------------------\n"
     ]
    }
   ],
   "source": [
    "print(\"Remove last item if it is incomplete.\")\n",
    "print('--------------------------- LAST 4 LINES ---------------------------')\n",
    "for t in transcript_list[-4:] :\n",
    "    print(t)\n",
    "print('-------------------------------- END -------------------------------')\n",
    "\n",
    "# Uncomment and re-run this cell if the last line is found to be incomplete\n",
    "# if type(transcript_list[-1]) == list :\n",
    "    # transcript_list.pop() "
   ]
  },
  {
   "cell_type": "markdown",
   "id": "c05d3e81-7576-4f7e-9ac5-a0b387d034cc",
   "metadata": {},
   "source": [
    "### Convert into DataFrame\n",
    "Conver the list with successive items being `['timestamp', 'speaker]` and `'utterance'` items into a DataFrame"
   ]
  },
  {
   "cell_type": "code",
   "execution_count": 5,
   "id": "9365a91d-0637-424c-98ee-5ab824997c4c",
   "metadata": {},
   "outputs": [
    {
     "data": {
      "text/html": [
       "<div>\n",
       "<style scoped>\n",
       "    .dataframe tbody tr th:only-of-type {\n",
       "        vertical-align: middle;\n",
       "    }\n",
       "\n",
       "    .dataframe tbody tr th {\n",
       "        vertical-align: top;\n",
       "    }\n",
       "\n",
       "    .dataframe thead th {\n",
       "        text-align: right;\n",
       "    }\n",
       "</style>\n",
       "<table border=\"1\" class=\"dataframe\">\n",
       "  <thead>\n",
       "    <tr style=\"text-align: right;\">\n",
       "      <th></th>\n",
       "      <th>timestamp</th>\n",
       "      <th>speaker</th>\n",
       "      <th>utterance</th>\n",
       "    </tr>\n",
       "  </thead>\n",
       "  <tbody>\n",
       "    <tr>\n",
       "      <th>157</th>\n",
       "      <td>00:11:54</td>\n",
       "      <td>Daniel</td>\n",
       "      <td>The</td>\n",
       "    </tr>\n",
       "    <tr>\n",
       "      <th>39</th>\n",
       "      <td>00:02:51</td>\n",
       "      <td>Daniel</td>\n",
       "      <td>OK.</td>\n",
       "    </tr>\n",
       "    <tr>\n",
       "      <th>267</th>\n",
       "      <td>00:20:29</td>\n",
       "      <td>George</td>\n",
       "      <td>But the video is not the process, it's just.</td>\n",
       "    </tr>\n",
       "  </tbody>\n",
       "</table>\n",
       "</div>"
      ],
      "text/plain": [
       "    timestamp speaker                                     utterance\n",
       "157  00:11:54  Daniel                                           The\n",
       "39   00:02:51  Daniel                                           OK.\n",
       "267  00:20:29  George  But the video is not the process, it's just."
      ]
     },
     "execution_count": 5,
     "metadata": {},
     "output_type": "execute_result"
    }
   ],
   "source": [
    "transcript_triad = []\n",
    "for ind, line in enumerate(transcript_list) :\n",
    "    if type(line) == list :\n",
    "        if len(line) < 2 :\n",
    "            speaker = 'Unclear'\n",
    "        else :\n",
    "            speaker = line[1]\n",
    "        timestamp = line[0]\n",
    "        utterance = transcript_list[ind+1]\n",
    "        turn_data = { 'timestamp' : timestamp,\n",
    "                      'speaker'   : speaker,\n",
    "                      'utterance' : utterance\n",
    "                    }\n",
    "        transcript_triad.append(turn_data)\n",
    "\n",
    "df = pd.DataFrame(transcript_triad)\n",
    "df.sample(3)"
   ]
  },
  {
   "cell_type": "markdown",
   "id": "6dafbb11-b846-436e-b4fa-1ffb298b3c30",
   "metadata": {},
   "source": [
    "### Save DataFrame\n",
    "Because this involves text which can have punctuations including commas and semicolons, a CSV file is not recommended. Instead, save it as an excel file."
   ]
  },
  {
   "cell_type": "code",
   "execution_count": 7,
   "id": "75456e34-0f65-487f-ad01-d8f9ef496267",
   "metadata": {},
   "outputs": [],
   "source": [
    "df.to_excel('data/edi_2024_daniel_george.xlsx')"
   ]
  },
  {
   "cell_type": "code",
   "execution_count": null,
   "id": "a61fca5e-d863-469b-a65f-2766ee5b1b7a",
   "metadata": {},
   "outputs": [],
   "source": []
  }
 ],
 "metadata": {
  "kernelspec": {
   "display_name": "Python 3 (ipykernel)",
   "language": "python",
   "name": "python3"
  },
  "language_info": {
   "codemirror_mode": {
    "name": "ipython",
    "version": 3
   },
   "file_extension": ".py",
   "mimetype": "text/x-python",
   "name": "python",
   "nbconvert_exporter": "python",
   "pygments_lexer": "ipython3",
   "version": "3.12.2"
  }
 },
 "nbformat": 4,
 "nbformat_minor": 5
}
