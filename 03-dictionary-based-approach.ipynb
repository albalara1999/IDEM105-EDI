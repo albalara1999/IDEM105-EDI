{
 "cells": [
  {
   "cell_type": "markdown",
   "id": "acc4c443",
   "metadata": {},
   "source": [
    "# 3. Exploring a dictionary-based approach with Empath\n",
    "\n",
    "Empath (see [Fast et al., 2016](https://dl.acm.org/doi/10.1145/2858036.2858535)) is a tool for analysing a given corpus of text to identify the occurrence of certain pre-defined linguistic categories (similar to what is provided by LIWC), but also provides us with a way to create our own linguistic categories based on the behaviour we might want to examine.\n",
    "\n",
    "Empath does not come pre-installed with standard python distributions so you would need to install it on your system using the following command in your terminal:\n",
    "\n",
    "````\n",
    "pip install empath\n",
    "````"
   ]
  },
  {
   "cell_type": "code",
   "execution_count": 1,
   "id": "c464b18d",
   "metadata": {},
   "outputs": [],
   "source": [
    "import pandas as pd\n",
    "from empath import Empath\n",
    "lexicon = Empath()"
   ]
  },
  {
   "cell_type": "code",
   "execution_count": 2,
   "id": "0ce8b549",
   "metadata": {},
   "outputs": [
    {
     "data": {
      "text/html": [
       "<div>\n",
       "<style scoped>\n",
       "    .dataframe tbody tr th:only-of-type {\n",
       "        vertical-align: middle;\n",
       "    }\n",
       "\n",
       "    .dataframe tbody tr th {\n",
       "        vertical-align: top;\n",
       "    }\n",
       "\n",
       "    .dataframe thead th {\n",
       "        text-align: right;\n",
       "    }\n",
       "</style>\n",
       "<table border=\"1\" class=\"dataframe\">\n",
       "  <thead>\n",
       "    <tr style=\"text-align: right;\">\n",
       "      <th></th>\n",
       "      <th>Unnamed: 0</th>\n",
       "      <th>timestamp</th>\n",
       "      <th>speaker</th>\n",
       "      <th>utterance</th>\n",
       "    </tr>\n",
       "  </thead>\n",
       "  <tbody>\n",
       "    <tr>\n",
       "      <th>242</th>\n",
       "      <td>242</td>\n",
       "      <td>00:18:45</td>\n",
       "      <td>George</td>\n",
       "      <td>Just.</td>\n",
       "    </tr>\n",
       "    <tr>\n",
       "      <th>273</th>\n",
       "      <td>273</td>\n",
       "      <td>00:20:46</td>\n",
       "      <td>Daniel</td>\n",
       "      <td>2 minutes.</td>\n",
       "    </tr>\n",
       "    <tr>\n",
       "      <th>368</th>\n",
       "      <td>368</td>\n",
       "      <td>00:29:49</td>\n",
       "      <td>George</td>\n",
       "      <td>We can call it Daisy Dining.</td>\n",
       "    </tr>\n",
       "  </tbody>\n",
       "</table>\n",
       "</div>"
      ],
      "text/plain": [
       "     Unnamed: 0 timestamp speaker                     utterance\n",
       "242         242  00:18:45  George                         Just.\n",
       "273         273  00:20:46  Daniel                    2 minutes.\n",
       "368         368  00:29:49  George  We can call it Daisy Dining."
      ]
     },
     "execution_count": 2,
     "metadata": {},
     "output_type": "execute_result"
    }
   ],
   "source": [
    "transcript_df = pd.read_excel('data/excel/edi_2024_daniel_george.xlsx')\n",
    "transcript_df.sample(3)"
   ]
  },
  {
   "cell_type": "code",
   "execution_count": 3,
   "id": "b96c8d07",
   "metadata": {},
   "outputs": [],
   "source": [
    "utterances = transcript_df['utterance'].to_list()"
   ]
  },
  {
   "cell_type": "markdown",
   "id": "7b510cd9",
   "metadata": {},
   "source": [
    "## Get the list of categories from Empath\n",
    "Empath has a set of predefined categories that you can print by using the following command."
   ]
  },
  {
   "cell_type": "code",
   "execution_count": 4,
   "id": "f92ba540",
   "metadata": {},
   "outputs": [
    {
     "data": {
      "text/plain": [
       "dict_keys(['help', 'office', 'dance', 'money', 'wedding', 'domestic_work', 'sleep', 'medical_emergency', 'cold', 'hate', 'cheerfulness', 'aggression', 'occupation', 'envy', 'anticipation', 'family', 'vacation', 'crime', 'attractive', 'masculine', 'prison', 'health', 'pride', 'dispute', 'nervousness', 'government', 'weakness', 'horror', 'swearing_terms', 'leisure', 'suffering', 'royalty', 'wealthy', 'tourism', 'furniture', 'school', 'magic', 'beach', 'journalism', 'morning', 'banking', 'social_media', 'exercise', 'night', 'kill', 'blue_collar_job', 'art', 'ridicule', 'play', 'computer', 'college', 'optimism', 'stealing', 'real_estate', 'home', 'divine', 'sexual', 'fear', 'irritability', 'superhero', 'business', 'driving', 'pet', 'childish', 'cooking', 'exasperation', 'religion', 'hipster', 'internet', 'surprise', 'reading', 'worship', 'leader', 'independence', 'movement', 'body', 'noise', 'eating', 'medieval', 'zest', 'confusion', 'water', 'sports', 'death', 'healing', 'legend', 'heroic', 'celebration', 'restaurant', 'violence', 'programming', 'dominant_heirarchical', 'military', 'neglect', 'swimming', 'exotic', 'love', 'hiking', 'communication', 'hearing', 'order', 'sympathy', 'hygiene', 'weather', 'anonymity', 'trust', 'ancient', 'deception', 'fabric', 'air_travel', 'fight', 'dominant_personality', 'music', 'vehicle', 'politeness', 'toy', 'farming', 'meeting', 'war', 'speaking', 'listen', 'urban', 'shopping', 'disgust', 'fire', 'tool', 'phone', 'gain', 'sound', 'injury', 'sailing', 'rage', 'science', 'work', 'appearance', 'valuable', 'warmth', 'youth', 'sadness', 'fun', 'emotional', 'joy', 'affection', 'traveling', 'fashion', 'ugliness', 'lust', 'shame', 'torment', 'economics', 'anger', 'politics', 'ship', 'clothing', 'car', 'strength', 'technology', 'breaking', 'shape_and_size', 'power', 'white_collar_job', 'animal', 'party', 'terrorism', 'smell', 'disappointment', 'poor', 'plant', 'pain', 'beauty', 'timidity', 'philosophy', 'negotiate', 'negative_emotion', 'cleaning', 'messaging', 'competing', 'law', 'friends', 'payment', 'achievement', 'alcohol', 'liquid', 'feminine', 'weapon', 'children', 'monster', 'ocean', 'giving', 'contentment', 'writing', 'rural', 'positive_emotion', 'musical', 'intelligence', 'flora', 'reflection'])"
      ]
     },
     "execution_count": 4,
     "metadata": {},
     "output_type": "execute_result"
    }
   ],
   "source": [
    "lexicon.cats.keys()"
   ]
  },
  {
   "cell_type": "markdown",
   "id": "6484d43c",
   "metadata": {},
   "source": [
    "To understand what words make up a category from the list above, e.g., `help` or `office` or `positive_emotion`, use the following command."
   ]
  },
  {
   "cell_type": "code",
   "execution_count": 5,
   "id": "cd7db702",
   "metadata": {},
   "outputs": [
    {
     "name": "stdout",
     "output_type": "stream",
     "text": [
      "['friend', 'confidence', 'thrill', 'cherish', 'admiration', 'curiosity', 'better', 'understanding', 'dearly', 'bravery', 'faith', 'concern', 'empathy', 'rejoice', 'hope', 'bond', 'respect', 'unconditionally', 'honest', 'care', 'emotion', 'happy', 'assurance', 'loyalty', 'reunite', 'great', 'forgiving', 'happiness', 'enthusiasm', 'joy', 'wish', 'convince', 'thrilled', 'adoration', 'sympathize', 'comfort', 'honesty', 'reason', 'elation', 'keep', 'affection', 'family', 'kindness', 'freedom', 'willingness', 'sincerity', 'alive', 'reassurance', 'overjoyed', 'eagerness', 'closure', 'proud', 'accomplishment', 'trusting', 'glad', 'surprise', 'trust', 'excitement', 'love', 'honestly', 'feeling', 'sincere', 'genuine', 'pride', 'triumph', 'joyful', 'forgiveness', 'trustworthy', 'determination', 'optimism', 'loved', 'certainty', 'compassion', 'gratitude', 'enlighten']\n"
     ]
    }
   ],
   "source": [
    "print(lexicon.cats['positive_emotion'])"
   ]
  },
  {
   "cell_type": "markdown",
   "id": "0e36b602-2500-4d10-b763-6354a0ed3f40",
   "metadata": {},
   "source": [
    "To analyze a piece of text using this category, use the following function."
   ]
  },
  {
   "cell_type": "code",
   "execution_count": 6,
   "id": "acaa8137-4a39-492a-adfd-51699b32b6c2",
   "metadata": {},
   "outputs": [
    {
     "data": {
      "text/plain": [
       "{'positive_emotion': 0.25}"
      ]
     },
     "execution_count": 6,
     "metadata": {},
     "output_type": "execute_result"
    }
   ],
   "source": [
    "lexicon.analyze(\"Ohh that's happy news.\", categories=[\"positive_emotion\"], normalize=True)"
   ]
  },
  {
   "cell_type": "markdown",
   "id": "a51b82a7",
   "metadata": {},
   "source": [
    "## Analysing a piece of text using Empath\n",
    "Let's say you want to see if a text uses a higher density of `positive_emotion` words (i.e, the number of 'positive emotion' words divided by the total words in the review) than another text. For that matter, we just want to see what the `positive_emotion` scores are across all the reviews. We can use the following approach."
   ]
  },
  {
   "cell_type": "code",
   "execution_count": 7,
   "id": "f064cc78",
   "metadata": {},
   "outputs": [],
   "source": [
    "posemo_scores = []\n",
    "for utterance in utterances :\n",
    "    posemo = lexicon.analyze(utterance, categories=[\"positive_emotion\"], normalize=True)\n",
    "    posemo_score = posemo['positive_emotion']\n",
    "    posemo_scores.append(posemo_score)\n"
   ]
  },
  {
   "cell_type": "markdown",
   "id": "7e70f05c",
   "metadata": {},
   "source": [
    "We can create a function for this approach so that we can pass this function to the dataframe."
   ]
  },
  {
   "cell_type": "code",
   "execution_count": 8,
   "id": "7d7725ae",
   "metadata": {},
   "outputs": [
    {
     "data": {
      "text/html": [
       "<div>\n",
       "<style scoped>\n",
       "    .dataframe tbody tr th:only-of-type {\n",
       "        vertical-align: middle;\n",
       "    }\n",
       "\n",
       "    .dataframe tbody tr th {\n",
       "        vertical-align: top;\n",
       "    }\n",
       "\n",
       "    .dataframe thead th {\n",
       "        text-align: right;\n",
       "    }\n",
       "</style>\n",
       "<table border=\"1\" class=\"dataframe\">\n",
       "  <thead>\n",
       "    <tr style=\"text-align: right;\">\n",
       "      <th></th>\n",
       "      <th>Unnamed: 0</th>\n",
       "      <th>timestamp</th>\n",
       "      <th>speaker</th>\n",
       "      <th>utterance</th>\n",
       "      <th>positive_emotion</th>\n",
       "    </tr>\n",
       "  </thead>\n",
       "  <tbody>\n",
       "    <tr>\n",
       "      <th>15</th>\n",
       "      <td>15</td>\n",
       "      <td>00:01:16</td>\n",
       "      <td>Daniel</td>\n",
       "      <td>Yeah.</td>\n",
       "      <td>0.0</td>\n",
       "    </tr>\n",
       "    <tr>\n",
       "      <th>393</th>\n",
       "      <td>393</td>\n",
       "      <td>00:32:30</td>\n",
       "      <td>Daniel</td>\n",
       "      <td>And I think this one should be shorter.</td>\n",
       "      <td>0.0</td>\n",
       "    </tr>\n",
       "    <tr>\n",
       "      <th>107</th>\n",
       "      <td>107</td>\n",
       "      <td>00:08:59</td>\n",
       "      <td>George</td>\n",
       "      <td>It's uh.</td>\n",
       "      <td>0.0</td>\n",
       "    </tr>\n",
       "  </tbody>\n",
       "</table>\n",
       "</div>"
      ],
      "text/plain": [
       "     Unnamed: 0 timestamp speaker                                utterance  \\\n",
       "15           15  00:01:16  Daniel                                    Yeah.   \n",
       "393         393  00:32:30  Daniel  And I think this one should be shorter.   \n",
       "107         107  00:08:59  George                                 It's uh.   \n",
       "\n",
       "     positive_emotion  \n",
       "15                0.0  \n",
       "393               0.0  \n",
       "107               0.0  "
      ]
     },
     "execution_count": 8,
     "metadata": {},
     "output_type": "execute_result"
    }
   ],
   "source": [
    "def calc_posemo_score(text):\n",
    "    category = 'positive_emotion'\n",
    "    score = lexicon.analyze(text, categories=[category], normalize=True)\n",
    "    return score[category]\n",
    "\n",
    "transcript_df['positive_emotion'] = transcript_df['utterance'].apply(calc_posemo_score)\n",
    "                                                                \n",
    "# df[\"sentence_length2\"] = df[\"sentences\"].apply(sentence_length)\n",
    "transcript_df.sample(3)                                                                               "
   ]
  },
  {
   "cell_type": "markdown",
   "id": "02d3ceef",
   "metadata": {},
   "source": [
    "We can then plot a histogram of the scores to see their distribution."
   ]
  },
  {
   "cell_type": "code",
   "execution_count": 9,
   "id": "fdf30c63",
   "metadata": {},
   "outputs": [
    {
     "data": {
      "image/png": "[encoded data removed]",
      "text/plain": [
       "<Figure size 640x480 with 1 Axes>"
      ]
     },
     "metadata": {},
     "output_type": "display_data"
    }
   ],
   "source": [
    "import seaborn as sns\n",
    "import matplotlib.pyplot as plt\n",
    "sns.set_theme('notebook')\n",
    "sns.set_style('ticks')\n",
    "plt.figure(dpi=100)\n",
    "\n",
    "g = sns.histplot(x='positive_emotion', data=transcript_df)"
   ]
  },
  {
   "cell_type": "markdown",
   "id": "141d4c3b",
   "metadata": {},
   "source": [
    "You can do the same thing for the Empath category `negative_emotions`."
   ]
  },
  {
   "cell_type": "code",
   "execution_count": 10,
   "id": "f85f91b1",
   "metadata": {},
   "outputs": [
    {
     "data": {
      "text/html": [
       "<div>\n",
       "<style scoped>\n",
       "    .dataframe tbody tr th:only-of-type {\n",
       "        vertical-align: middle;\n",
       "    }\n",
       "\n",
       "    .dataframe tbody tr th {\n",
       "        vertical-align: top;\n",
       "    }\n",
       "\n",
       "    .dataframe thead th {\n",
       "        text-align: right;\n",
       "    }\n",
       "</style>\n",
       "<table border=\"1\" class=\"dataframe\">\n",
       "  <thead>\n",
       "    <tr style=\"text-align: right;\">\n",
       "      <th></th>\n",
       "      <th>Unnamed: 0</th>\n",
       "      <th>timestamp</th>\n",
       "      <th>speaker</th>\n",
       "      <th>utterance</th>\n",
       "      <th>positive_emotion</th>\n",
       "      <th>negative_emotion</th>\n",
       "    </tr>\n",
       "  </thead>\n",
       "  <tbody>\n",
       "    <tr>\n",
       "      <th>441</th>\n",
       "      <td>441</td>\n",
       "      <td>00:38:52</td>\n",
       "      <td>Daniel</td>\n",
       "      <td>And. Make a cool music.</td>\n",
       "      <td>0.0</td>\n",
       "      <td>0.0</td>\n",
       "    </tr>\n",
       "    <tr>\n",
       "      <th>412</th>\n",
       "      <td>412</td>\n",
       "      <td>00:34:36</td>\n",
       "      <td>Daniel</td>\n",
       "      <td>Where? Where? At here?</td>\n",
       "      <td>0.0</td>\n",
       "      <td>0.0</td>\n",
       "    </tr>\n",
       "    <tr>\n",
       "      <th>335</th>\n",
       "      <td>335</td>\n",
       "      <td>00:25:54</td>\n",
       "      <td>George</td>\n",
       "      <td>Add the second video. No sound, yeah.</td>\n",
       "      <td>0.0</td>\n",
       "      <td>0.0</td>\n",
       "    </tr>\n",
       "  </tbody>\n",
       "</table>\n",
       "</div>"
      ],
      "text/plain": [
       "     Unnamed: 0 timestamp speaker                              utterance  \\\n",
       "441         441  00:38:52  Daniel                And. Make a cool music.   \n",
       "412         412  00:34:36  Daniel                 Where? Where? At here?   \n",
       "335         335  00:25:54  George  Add the second video. No sound, yeah.   \n",
       "\n",
       "     positive_emotion  negative_emotion  \n",
       "441               0.0               0.0  \n",
       "412               0.0               0.0  \n",
       "335               0.0               0.0  "
      ]
     },
     "execution_count": 10,
     "metadata": {},
     "output_type": "execute_result"
    }
   ],
   "source": [
    "def calc_negemo_score(text):\n",
    "    category = 'negative_emotion'\n",
    "    score = lexicon.analyze(text, categories=[category], normalize=True)\n",
    "    return score[category]\n",
    "\n",
    "transcript_df['negative_emotion'] = transcript_df['utterance'].apply(calc_negemo_score)\n",
    "                                                                \n",
    "transcript_df.sample(3)                                                                               "
   ]
  },
  {
   "cell_type": "code",
   "execution_count": 11,
   "id": "0e2db0de",
   "metadata": {},
   "outputs": [
    {
     "data": {
      "text/plain": [
       "<Axes: xlabel='negative_emotion', ylabel='Count'>"
      ]
     },
     "execution_count": 11,
     "metadata": {},
     "output_type": "execute_result"
    },
    {
     "data": {
      "image/png": "[encoded data removed]",
      "text/plain": [
       "<Figure size 640x480 with 1 Axes>"
      ]
     },
     "metadata": {},
     "output_type": "display_data"
    }
   ],
   "source": [
    "plt.figure(dpi=100)\n",
    "sns.histplot(x='negative_emotion', data=transcript_df)\n"
   ]
  },
  {
   "cell_type": "code",
   "execution_count": 12,
   "id": "59a065d2",
   "metadata": {},
   "outputs": [
    {
     "data": {
      "text/plain": [
       "(4, 6)"
      ]
     },
     "execution_count": 12,
     "metadata": {},
     "output_type": "execute_result"
    }
   ],
   "source": [
    "emotions_df = transcript_df[(transcript_df['positive_emotion'] > 0) | (transcript_df['negative_emotion'] > 0)]\n",
    "emotions_df.shape"
   ]
  },
  {
   "cell_type": "markdown",
   "id": "bf710f7a",
   "metadata": {},
   "source": [
    "Do you think the use of positive emotion-related text is more for some speakers over others? Let's see."
   ]
  },
  {
   "cell_type": "code",
   "execution_count": 13,
   "id": "7e741e53",
   "metadata": {},
   "outputs": [
    {
     "data": {
      "image/png": "[encoded data removed]",
      "text/plain": [
       "<Figure size 640x480 with 1 Axes>"
      ]
     },
     "metadata": {},
     "output_type": "display_data"
    }
   ],
   "source": [
    "plt.figure(dpi=100)\n",
    "g = sns.stripplot(y='positive_emotion', x='speaker', data=emotions_df, jitter=True, color='gray', alpha=0.5)"
   ]
  },
  {
   "cell_type": "code",
   "execution_count": 14,
   "id": "423a596b",
   "metadata": {},
   "outputs": [
    {
     "data": {
      "image/png": "[encoded data removed]",
      "text/plain": [
       "<Figure size 640x480 with 1 Axes>"
      ]
     },
     "metadata": {},
     "output_type": "display_data"
    }
   ],
   "source": [
    "plt.figure(dpi=100)\n",
    "g = sns.stripplot(y='negative_emotion', x='speaker', data=emotions_df, jitter=True, color='gray', alpha=0.5)\n"
   ]
  },
  {
   "cell_type": "markdown",
   "id": "e14adf41",
   "metadata": {},
   "source": [
    "## Exercise 1\n",
    "What is the explanation for the anomalies? Use techniques covered so far to identify.\n",
    "\n",
    "**HINT:** Filter the dataframe by speaker, then the posemo & negemo scores, then examine the text."
   ]
  },
  {
   "cell_type": "markdown",
   "id": "d8178403",
   "metadata": {},
   "source": [
    "## Exercise 2\n",
    "\n",
    "Identify a particular behaviour you notice in your session's transcript. Can you create an Empath category for this behaviour? Analyze the transcript with your new category.\n"
   ]
  },
  {
   "cell_type": "code",
   "execution_count": null,
   "id": "ade1b591",
   "metadata": {},
   "outputs": [],
   "source": []
  }
 ],
 "metadata": {
  "kernelspec": {
   "display_name": "Python 3 (ipykernel)",
   "language": "python",
   "name": "python3"
  },
  "language_info": {
   "codemirror_mode": {
    "name": "ipython",
    "version": 3
   },
   "file_extension": ".py",
   "mimetype": "text/x-python",
   "name": "python",
   "nbconvert_exporter": "python",
   "pygments_lexer": "ipython3",
   "version": "3.12.2"
  }
 },
 "nbformat": 4,
 "nbformat_minor": 5
}
