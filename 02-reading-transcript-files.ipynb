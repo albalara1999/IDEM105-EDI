{
 "cells": [
  {
   "cell_type": "markdown",
   "id": "06edbd4b",
   "metadata": {},
   "source": [
    "# 2. Reading files\n"
   ]
  },
  {
   "cell_type": "markdown",
   "id": "5a910a33",
   "metadata": {},
   "source": [
    "## Load Transcript Text\n",
    "Let's load your Transcript file from BrightSpace. Download your file and save it in the `data` folder from the locaction where you launched this Notebook. Since this is an excel file, you will need to use a python library called *pandas*."
   ]
  },
  {
   "cell_type": "code",
   "execution_count": 1,
   "id": "69b42e5e-cb61-4646-a78a-e1e259ae7fbc",
   "metadata": {},
   "outputs": [],
   "source": [
    "import pandas as pd  # Use 'pd' as a shortcut for 'pandas' as it saves you the effort of typing 'pandas' every time."
   ]
  },
  {
   "cell_type": "code",
   "execution_count": 2,
   "id": "f0a9feb4",
   "metadata": {},
   "outputs": [
    {
     "data": {
      "text/html": [
       "<div>\n",
       "<style scoped>\n",
       "    .dataframe tbody tr th:only-of-type {\n",
       "        vertical-align: middle;\n",
       "    }\n",
       "\n",
       "    .dataframe tbody tr th {\n",
       "        vertical-align: top;\n",
       "    }\n",
       "\n",
       "    .dataframe thead th {\n",
       "        text-align: right;\n",
       "    }\n",
       "</style>\n",
       "<table border=\"1\" class=\"dataframe\">\n",
       "  <thead>\n",
       "    <tr style=\"text-align: right;\">\n",
       "      <th></th>\n",
       "      <th>Unnamed: 0</th>\n",
       "      <th>timestamp</th>\n",
       "      <th>speaker</th>\n",
       "      <th>utterance</th>\n",
       "    </tr>\n",
       "  </thead>\n",
       "  <tbody>\n",
       "    <tr>\n",
       "      <th>9</th>\n",
       "      <td>9</td>\n",
       "      <td>00:00:28</td>\n",
       "      <td>Yuxuan</td>\n",
       "      <td>Something to prove?</td>\n",
       "    </tr>\n",
       "    <tr>\n",
       "      <th>1</th>\n",
       "      <td>1</td>\n",
       "      <td>00:00:00</td>\n",
       "      <td>George</td>\n",
       "      <td>Yes.</td>\n",
       "    </tr>\n",
       "    <tr>\n",
       "      <th>306</th>\n",
       "      <td>306</td>\n",
       "      <td>00:23:26</td>\n",
       "      <td>George</td>\n",
       "      <td>Exports.</td>\n",
       "    </tr>\n",
       "  </tbody>\n",
       "</table>\n",
       "</div>"
      ],
      "text/plain": [
       "     Unnamed: 0 timestamp speaker            utterance\n",
       "9             9  00:00:28  Yuxuan  Something to prove?\n",
       "1             1  00:00:00  George                 Yes.\n",
       "306         306  00:23:26  George             Exports."
      ]
     },
     "execution_count": 2,
     "metadata": {},
     "output_type": "execute_result"
    }
   ],
   "source": [
    "transcript_df = pd.read_excel('data/excel/edi_2024_daniel_george.xlsx')\n",
    "transcript_df.sample(3)"
   ]
  },
  {
   "cell_type": "markdown",
   "id": "b37508f0-3f47-4224-94c2-726cdf3f9e69",
   "metadata": {},
   "source": [
    "The 'Unnamed' columns is a result of my not saving the file properly so let's get rid of it."
   ]
  },
  {
   "cell_type": "code",
   "execution_count": 3,
   "id": "654e9cc5-8632-4605-b877-313b0a45f935",
   "metadata": {},
   "outputs": [
    {
     "data": {
      "text/html": [
       "<div>\n",
       "<style scoped>\n",
       "    .dataframe tbody tr th:only-of-type {\n",
       "        vertical-align: middle;\n",
       "    }\n",
       "\n",
       "    .dataframe tbody tr th {\n",
       "        vertical-align: top;\n",
       "    }\n",
       "\n",
       "    .dataframe thead th {\n",
       "        text-align: right;\n",
       "    }\n",
       "</style>\n",
       "<table border=\"1\" class=\"dataframe\">\n",
       "  <thead>\n",
       "    <tr style=\"text-align: right;\">\n",
       "      <th></th>\n",
       "      <th>timestamp</th>\n",
       "      <th>speaker</th>\n",
       "      <th>utterance</th>\n",
       "    </tr>\n",
       "  </thead>\n",
       "  <tbody>\n",
       "    <tr>\n",
       "      <th>281</th>\n",
       "      <td>00:21:27</td>\n",
       "      <td>George</td>\n",
       "      <td>Yeah.</td>\n",
       "    </tr>\n",
       "    <tr>\n",
       "      <th>157</th>\n",
       "      <td>00:11:54</td>\n",
       "      <td>Daniel</td>\n",
       "      <td>The</td>\n",
       "    </tr>\n",
       "    <tr>\n",
       "      <th>234</th>\n",
       "      <td>00:18:15</td>\n",
       "      <td>George</td>\n",
       "      <td>I think so.</td>\n",
       "    </tr>\n",
       "  </tbody>\n",
       "</table>\n",
       "</div>"
      ],
      "text/plain": [
       "    timestamp speaker    utterance\n",
       "281  00:21:27  George        Yeah.\n",
       "157  00:11:54  Daniel          The\n",
       "234  00:18:15  George  I think so."
      ]
     },
     "execution_count": 3,
     "metadata": {},
     "output_type": "execute_result"
    }
   ],
   "source": [
    "transcript_df = transcript_df.drop(columns=['Unnamed: 0'])\n",
    "transcript_df.sample(3)"
   ]
  },
  {
   "cell_type": "markdown",
   "id": "80f65eda",
   "metadata": {},
   "source": [
    "Excellent. Now we can do things like check how many speech turns (i.e., lines in the excel sheet) have been captured in the transcript.\n",
    "We can also print the first few and last few lines."
   ]
  },
  {
   "cell_type": "code",
   "execution_count": 4,
   "id": "bd14c55c",
   "metadata": {},
   "outputs": [
    {
     "name": "stdout",
     "output_type": "stream",
     "text": [
      "Number of speech turns :  501\n",
      "------------------------------------\n",
      "First 3 lines:\n",
      "  timestamp speaker                                          utterance\n",
      "0  00:00:00  Daniel  Just record the voice and then next we can do ...\n",
      "1  00:00:00  George                                               Yes.\n",
      "2  00:00:05  George               But we need to make a video as well.\n",
      "------------------------------------\n",
      "Last 3 lines:\n",
      "    timestamp speaker                                     utterance\n",
      "498  00:44:34  Daniel                               OK, we're done.\n",
      "499  00:44:34  George  Yeah, yeah, good. I'm stopping this as well.\n",
      "500  00:44:35  Yuxuan                                      Perfect.\n"
     ]
    }
   ],
   "source": [
    "print(\"Number of speech turns : \", transcript_df.shape[0])\n",
    "print(\"------------------------------------\")\n",
    "print(\"First 3 lines:\")\n",
    "print(transcript_df[0:3])\n",
    "print(\"------------------------------------\")\n",
    "print(\"Last 3 lines:\")\n",
    "print(transcript_df[-3:])\n"
   ]
  },
  {
   "cell_type": "markdown",
   "id": "49dc8bc3",
   "metadata": {},
   "source": [
    "## Counting Speech Turns\n",
    "Let's start simply. Who had the most speech turns? Let's first split the dataframe into the total number of speakers."
   ]
  },
  {
   "cell_type": "code",
   "execution_count": 5,
   "id": "668def61-bcbc-4fbc-87d8-9f54a1b37feb",
   "metadata": {},
   "outputs": [
    {
     "data": {
      "text/plain": [
       "['Daniel',\n",
       " 'George',\n",
       " 'George',\n",
       " 'Daniel',\n",
       " 'Daniel',\n",
       " 'George',\n",
       " 'George',\n",
       " 'Daniel',\n",
       " 'George',\n",
       " 'Yuxuan',\n",
       " 'George',\n",
       " 'Daniel',\n",
       " 'Daniel',\n",
       " 'Yuxuan',\n",
       " 'George',\n",
       " 'Daniel',\n",
       " 'Yuxuan',\n",
       " 'George',\n",
       " 'George',\n",
       " 'George',\n",
       " 'Daniel',\n",
       " 'George',\n",
       " 'George',\n",
       " 'George',\n",
       " 'Yuxuan',\n",
       " 'George',\n",
       " 'Daniel',\n",
       " 'George',\n",
       " 'Daniel',\n",
       " 'George',\n",
       " 'Daniel',\n",
       " 'George',\n",
       " 'Yuxuan',\n",
       " 'Daniel',\n",
       " 'George',\n",
       " 'Yuxuan',\n",
       " 'Yuxuan',\n",
       " 'George',\n",
       " 'Daniel',\n",
       " 'Daniel',\n",
       " 'Yuxuan',\n",
       " 'George',\n",
       " 'George',\n",
       " 'Yuxuan',\n",
       " 'Daniel',\n",
       " 'George',\n",
       " 'George',\n",
       " 'George',\n",
       " 'Yuxuan',\n",
       " 'Daniel',\n",
       " 'Daniel',\n",
       " 'George',\n",
       " 'Yuxuan',\n",
       " 'Daniel',\n",
       " 'George',\n",
       " 'Daniel',\n",
       " 'George',\n",
       " 'George',\n",
       " 'Yuxuan',\n",
       " 'George',\n",
       " 'Yuxuan',\n",
       " 'George',\n",
       " 'George',\n",
       " 'Yuxuan',\n",
       " 'Yuxuan',\n",
       " 'George',\n",
       " 'George',\n",
       " 'George',\n",
       " 'Yuxuan',\n",
       " 'Daniel',\n",
       " 'George',\n",
       " 'George',\n",
       " 'Daniel',\n",
       " 'Yuxuan',\n",
       " 'Yuxuan',\n",
       " 'George',\n",
       " 'Yuxuan',\n",
       " 'Yuxuan',\n",
       " 'Daniel',\n",
       " 'Yuxuan',\n",
       " 'George',\n",
       " 'George',\n",
       " 'Daniel',\n",
       " 'George',\n",
       " 'Yuxuan',\n",
       " 'George',\n",
       " 'George',\n",
       " 'George',\n",
       " 'Yuxuan',\n",
       " 'George',\n",
       " 'Yuxuan',\n",
       " 'Yuxuan',\n",
       " 'George',\n",
       " 'Yuxuan',\n",
       " 'Yuxuan',\n",
       " 'George',\n",
       " 'George',\n",
       " 'George',\n",
       " 'Daniel',\n",
       " 'George',\n",
       " 'Yuxuan',\n",
       " 'George',\n",
       " 'Yuxuan',\n",
       " 'George',\n",
       " 'Daniel',\n",
       " 'Yuxuan',\n",
       " 'George',\n",
       " 'George',\n",
       " 'George',\n",
       " 'George',\n",
       " 'George',\n",
       " 'Yuxuan',\n",
       " 'Yuxuan',\n",
       " 'George',\n",
       " 'Yuxuan',\n",
       " 'George',\n",
       " 'George',\n",
       " 'Daniel',\n",
       " 'Yuxuan',\n",
       " 'George',\n",
       " 'Daniel',\n",
       " 'Daniel',\n",
       " 'George',\n",
       " 'Daniel',\n",
       " 'Daniel',\n",
       " 'Daniel',\n",
       " 'Daniel',\n",
       " 'George',\n",
       " 'Daniel',\n",
       " 'George',\n",
       " 'Yuxuan',\n",
       " 'George',\n",
       " 'Daniel',\n",
       " 'George',\n",
       " 'Daniel',\n",
       " 'Yuxuan',\n",
       " 'Daniel',\n",
       " 'Daniel',\n",
       " 'Yuxuan',\n",
       " 'Yuxuan',\n",
       " 'George',\n",
       " 'Daniel',\n",
       " 'Daniel',\n",
       " 'Daniel',\n",
       " 'Daniel',\n",
       " 'Daniel',\n",
       " 'Yuxuan',\n",
       " 'Yuxuan',\n",
       " 'Daniel',\n",
       " 'George',\n",
       " 'Daniel',\n",
       " 'George',\n",
       " 'Yuxuan',\n",
       " 'Yuxuan',\n",
       " 'Yuxuan',\n",
       " 'George',\n",
       " 'Daniel',\n",
       " 'Daniel',\n",
       " 'Daniel',\n",
       " 'George',\n",
       " 'Yuxuan',\n",
       " 'George',\n",
       " 'George',\n",
       " 'George',\n",
       " 'George',\n",
       " 'Daniel',\n",
       " 'Daniel',\n",
       " 'George',\n",
       " 'Daniel',\n",
       " 'Yuxuan',\n",
       " 'George',\n",
       " 'Daniel',\n",
       " 'George',\n",
       " 'Daniel',\n",
       " 'Yuxuan',\n",
       " 'George',\n",
       " 'Daniel',\n",
       " 'Daniel',\n",
       " 'George',\n",
       " 'George',\n",
       " 'George',\n",
       " 'Yuxuan',\n",
       " 'Daniel',\n",
       " 'George',\n",
       " 'George',\n",
       " 'Yuxuan',\n",
       " 'Daniel',\n",
       " 'Daniel',\n",
       " 'Yuxuan',\n",
       " 'Daniel',\n",
       " 'George',\n",
       " 'Daniel',\n",
       " 'Yuxuan',\n",
       " 'George',\n",
       " 'Daniel',\n",
       " 'Daniel',\n",
       " 'George',\n",
       " 'George',\n",
       " 'George',\n",
       " 'George',\n",
       " 'Daniel',\n",
       " 'George',\n",
       " 'George',\n",
       " 'Daniel',\n",
       " 'George',\n",
       " 'Daniel',\n",
       " 'George',\n",
       " 'George',\n",
       " 'George',\n",
       " 'Daniel',\n",
       " 'Daniel',\n",
       " 'George',\n",
       " 'Yuxuan',\n",
       " 'George',\n",
       " 'Yuxuan',\n",
       " 'George',\n",
       " 'George',\n",
       " 'George',\n",
       " 'Daniel',\n",
       " 'Yuxuan',\n",
       " 'George',\n",
       " 'George',\n",
       " 'Daniel',\n",
       " 'Daniel',\n",
       " 'Daniel',\n",
       " 'Daniel',\n",
       " 'Daniel',\n",
       " 'George',\n",
       " 'Daniel',\n",
       " 'George',\n",
       " 'Daniel',\n",
       " 'Yuxuan',\n",
       " 'Yuxuan',\n",
       " 'Daniel',\n",
       " 'George',\n",
       " 'Daniel',\n",
       " 'George',\n",
       " 'George',\n",
       " 'George',\n",
       " 'Daniel',\n",
       " 'George',\n",
       " 'George',\n",
       " 'George',\n",
       " 'Yuxuan',\n",
       " 'George',\n",
       " 'Yuxuan',\n",
       " 'George',\n",
       " 'Daniel',\n",
       " 'George',\n",
       " 'Yuxuan',\n",
       " 'George',\n",
       " 'Daniel',\n",
       " 'George',\n",
       " 'Yuxuan',\n",
       " 'Daniel',\n",
       " 'George',\n",
       " 'George',\n",
       " 'George',\n",
       " 'Yuxuan',\n",
       " 'George',\n",
       " 'Yuxuan',\n",
       " 'Yuxuan',\n",
       " 'Yuxuan',\n",
       " 'Daniel',\n",
       " 'Yuxuan',\n",
       " 'Yuxuan',\n",
       " 'Yuxuan',\n",
       " 'George',\n",
       " 'Daniel',\n",
       " 'George',\n",
       " 'Yuxuan',\n",
       " 'George',\n",
       " 'George',\n",
       " 'Daniel',\n",
       " 'George',\n",
       " 'Yuxuan',\n",
       " 'George',\n",
       " 'George',\n",
       " 'George',\n",
       " 'George',\n",
       " 'Daniel',\n",
       " 'George',\n",
       " 'George',\n",
       " 'Daniel',\n",
       " 'George',\n",
       " 'Yuxuan',\n",
       " 'Daniel',\n",
       " 'George',\n",
       " 'Daniel',\n",
       " 'George',\n",
       " 'Yuxuan',\n",
       " 'Daniel',\n",
       " 'George',\n",
       " 'Daniel',\n",
       " 'Yuxuan',\n",
       " 'Daniel',\n",
       " 'Daniel',\n",
       " 'George',\n",
       " 'Daniel',\n",
       " 'George',\n",
       " 'George',\n",
       " 'George',\n",
       " 'George',\n",
       " 'George',\n",
       " 'George',\n",
       " 'George',\n",
       " 'George',\n",
       " 'George',\n",
       " 'Daniel',\n",
       " 'George',\n",
       " 'Yuxuan',\n",
       " 'Daniel',\n",
       " 'Daniel',\n",
       " 'George',\n",
       " 'Daniel',\n",
       " 'Daniel',\n",
       " 'George',\n",
       " 'Daniel',\n",
       " 'Daniel',\n",
       " 'George',\n",
       " 'Daniel',\n",
       " 'Yuxuan',\n",
       " 'Daniel',\n",
       " 'George',\n",
       " 'Daniel',\n",
       " 'George',\n",
       " 'George',\n",
       " 'Daniel',\n",
       " 'George',\n",
       " 'Daniel',\n",
       " 'George',\n",
       " 'George',\n",
       " 'George',\n",
       " 'Daniel',\n",
       " 'Daniel',\n",
       " 'George',\n",
       " 'Daniel',\n",
       " 'Daniel',\n",
       " 'Daniel',\n",
       " 'Daniel',\n",
       " 'Daniel',\n",
       " 'George',\n",
       " 'Daniel',\n",
       " 'George',\n",
       " 'George',\n",
       " 'Daniel',\n",
       " 'Daniel',\n",
       " 'George',\n",
       " 'Daniel',\n",
       " 'George',\n",
       " 'Daniel',\n",
       " 'George',\n",
       " 'Yuxuan',\n",
       " 'George',\n",
       " 'George',\n",
       " 'Daniel',\n",
       " 'Daniel',\n",
       " 'Daniel',\n",
       " 'Yuxuan',\n",
       " 'George',\n",
       " 'Daniel',\n",
       " 'George',\n",
       " 'George',\n",
       " 'Daniel',\n",
       " 'Daniel',\n",
       " 'George',\n",
       " 'George',\n",
       " 'George',\n",
       " 'George',\n",
       " 'George',\n",
       " 'Daniel',\n",
       " 'George',\n",
       " 'George',\n",
       " 'Daniel',\n",
       " 'Daniel',\n",
       " 'Yuxuan',\n",
       " 'Yuxuan',\n",
       " 'Daniel',\n",
       " 'George',\n",
       " 'Daniel',\n",
       " 'Yuxuan',\n",
       " 'Daniel',\n",
       " 'George',\n",
       " 'George',\n",
       " 'Daniel',\n",
       " 'Daniel',\n",
       " 'Daniel',\n",
       " 'George',\n",
       " 'Daniel',\n",
       " 'George',\n",
       " 'Daniel',\n",
       " 'George',\n",
       " 'George',\n",
       " 'Daniel',\n",
       " 'George',\n",
       " 'George',\n",
       " 'Daniel',\n",
       " 'Daniel',\n",
       " 'George',\n",
       " 'Daniel',\n",
       " 'George',\n",
       " 'George',\n",
       " 'George',\n",
       " 'Daniel',\n",
       " 'George',\n",
       " 'Daniel',\n",
       " 'Daniel',\n",
       " 'George',\n",
       " 'Daniel',\n",
       " 'George',\n",
       " 'Daniel',\n",
       " 'George',\n",
       " 'Daniel',\n",
       " 'George',\n",
       " 'Daniel',\n",
       " 'George',\n",
       " 'George',\n",
       " 'George',\n",
       " 'Daniel',\n",
       " 'George',\n",
       " 'Daniel',\n",
       " 'George',\n",
       " 'George',\n",
       " 'Yuxuan',\n",
       " 'George',\n",
       " 'George',\n",
       " 'Daniel',\n",
       " 'Yuxuan',\n",
       " 'Daniel',\n",
       " 'Daniel',\n",
       " 'Yuxuan',\n",
       " 'Daniel',\n",
       " 'George',\n",
       " 'Yuxuan',\n",
       " 'George',\n",
       " 'Daniel',\n",
       " 'Yuxuan',\n",
       " 'Yuxuan',\n",
       " 'Daniel',\n",
       " 'Yuxuan',\n",
       " 'Yuxuan',\n",
       " 'Daniel',\n",
       " 'Daniel',\n",
       " 'George',\n",
       " 'Yuxuan',\n",
       " 'Daniel',\n",
       " 'George',\n",
       " 'George',\n",
       " 'George',\n",
       " 'Daniel',\n",
       " 'Yuxuan',\n",
       " 'Daniel',\n",
       " 'Daniel',\n",
       " 'Yuxuan',\n",
       " 'George',\n",
       " 'Daniel',\n",
       " 'George',\n",
       " 'George',\n",
       " 'Yuxuan',\n",
       " 'George',\n",
       " 'George',\n",
       " 'Daniel',\n",
       " 'George',\n",
       " 'George',\n",
       " 'Daniel',\n",
       " 'Daniel',\n",
       " 'Daniel',\n",
       " 'George',\n",
       " 'Daniel',\n",
       " 'George',\n",
       " 'Daniel',\n",
       " 'Daniel',\n",
       " 'George',\n",
       " 'George',\n",
       " 'Daniel',\n",
       " 'George',\n",
       " 'George',\n",
       " 'Daniel',\n",
       " 'George',\n",
       " 'George',\n",
       " 'Daniel',\n",
       " 'George',\n",
       " 'Daniel',\n",
       " 'George',\n",
       " 'George',\n",
       " 'Daniel',\n",
       " 'George',\n",
       " 'Yuxuan',\n",
       " 'Yuxuan',\n",
       " 'George',\n",
       " 'George',\n",
       " 'Daniel',\n",
       " 'Daniel',\n",
       " 'George',\n",
       " 'Yuxuan',\n",
       " 'Daniel',\n",
       " 'George',\n",
       " 'Unclear',\n",
       " 'Daniel',\n",
       " 'George',\n",
       " 'Yuxuan']"
      ]
     },
     "execution_count": 5,
     "metadata": {},
     "output_type": "execute_result"
    }
   ],
   "source": [
    "speakers = transcript_df['speaker'].to_list()\n",
    "speakers"
   ]
  },
  {
   "cell_type": "markdown",
   "id": "fe22f016-b378-47ef-9bff-94371c073f72",
   "metadata": {},
   "source": [
    "This is not very useful; we need to find a _unique_ number of speakers. "
   ]
  },
  {
   "cell_type": "code",
   "execution_count": 6,
   "id": "1f697db5-e9c0-4fbc-873a-e5aadbcd762e",
   "metadata": {},
   "outputs": [
    {
     "data": {
      "text/plain": [
       "{'Daniel', 'George', 'Unclear', 'Yuxuan'}"
      ]
     },
     "execution_count": 6,
     "metadata": {},
     "output_type": "execute_result"
    }
   ],
   "source": [
    "unique_speakers = set(speakers)\n",
    "unique_speakers"
   ]
  },
  {
   "cell_type": "markdown",
   "id": "b866e717-d0e7-4f82-8049-1d57be6ae897",
   "metadata": {},
   "source": [
    "Go back to the excel file, fix the speakers if necessary, and run the above cells again until you get only the expected number of speakers."
   ]
  },
  {
   "cell_type": "markdown",
   "id": "53950cd7",
   "metadata": {},
   "source": [
    "### Strategy 1: The Spaces between Words\n",
    "Let's try the basic strategy of separating words by the spaces in between them."
   ]
  },
  {
   "cell_type": "code",
   "execution_count": 7,
   "id": "945ba0ba",
   "metadata": {},
   "outputs": [],
   "source": [
    "def get_words(utterances):\n",
    "    utt_words_list = []\n",
    "    for utt in utterances:\n",
    "        words = utt.lower().split()\n",
    "        utt_words_list.append(words)\n",
    "    return utt_words_list"
   ]
  },
  {
   "cell_type": "markdown",
   "id": "3409a37a",
   "metadata": {},
   "source": [
    "The next few steps (counting words and graphically displaying the counts) will be pretty much the same for all other strategies, so let's write functions for them.\n",
    "\n",
    "**NOTE:** In the next few steps we will be using some more existing libraries, so we will import them as needed."
   ]
  },
  {
   "cell_type": "code",
   "execution_count": 8,
   "id": "34ffd663",
   "metadata": {},
   "outputs": [],
   "source": [
    "import pandas as pd\n",
    "import seaborn as sns\n",
    "import matplotlib.pyplot as plt\n",
    "\n",
    "def count_words(utterance_words_list):\n",
    "    all_words = []\n",
    "    for utt_words in utterance_words_list :\n",
    "        all_words.extend(utt_words)\n",
    "    unique_words = list(set(all_words))\n",
    "    word_counts = [all_words.count(w) for w in unique_words]\n",
    "    counts_df = pd.DataFrame({'word' : unique_words, 'count' : word_counts})\n",
    "    return counts_df\n",
    "\n",
    "def plot_words(df, max_words=40):\n",
    "    df = df.sort_values(by=['count'], ascending=False)\n",
    "    df = df[0:max_words]\n",
    "    plt.figure(figsize=(4,int(max_words/5)), dpi=100)\n",
    "    g=sns.barplot(y='word', x='count', data=df, color='gray')\n",
    "    "
   ]
  },
  {
   "cell_type": "code",
   "execution_count": 9,
   "id": "24a38a13",
   "metadata": {},
   "outputs": [],
   "source": [
    "utterances = transcript_df['utterance'].to_list()\n",
    "utterance_words_list = get_words(utterances)\n",
    "\n",
    "word_counts_df = count_words(utterance_words_list)\n",
    "# all_w = [word for review_words in review_words_list for word in review_words]\n",
    "# [item for row in matrix for item in row]"
   ]
  },
  {
   "cell_type": "code",
   "execution_count": 10,
   "id": "561a8788",
   "metadata": {},
   "outputs": [
    {
     "data": {
      "image/png": "[encoded data removed]",
      "text/plain": [
       "<Figure size 400x800 with 1 Axes>"
      ]
     },
     "metadata": {},
     "output_type": "display_data"
    }
   ],
   "source": [
    "plot_words(word_counts_df, max_words=40)"
   ]
  },
  {
   "cell_type": "markdown",
   "id": "b3a3bf16",
   "metadata": {},
   "source": [
    "What do you notice in the plot? Do you think the most frequently-occurring words help you understand the discussion in any way?"
   ]
  },
  {
   "cell_type": "markdown",
   "id": "515fcd2e",
   "metadata": {},
   "source": [
    "### Strategy 2: tokenization\n",
    "Let's start exploring slightly more sophisticated ways to identify words, namely \"tokenization\", which is a fancy term for breaking up a string of text into words and punctuation. For more on the nuances of tokenization, see [Chapter 3 of the NLTK book](https://www.nltk.org/book/ch03.html)."
   ]
  },
  {
   "cell_type": "code",
   "execution_count": 11,
   "id": "f20fe777",
   "metadata": {},
   "outputs": [],
   "source": [
    "from nltk.tokenize import word_tokenize\n",
    "\n",
    "def get_words_tokenized(utterances):\n",
    "    utterance_words_list = []\n",
    "    for utterance in utterances:\n",
    "        words = word_tokenize(utterance.lower())\n",
    "        utterance_words_list.append(words)\n",
    "    return utterance_words_list"
   ]
  },
  {
   "cell_type": "code",
   "execution_count": 12,
   "id": "7d29a2e7",
   "metadata": {},
   "outputs": [
    {
     "data": {
      "image/png": "[encoded data removed]",
      "text/plain": [
       "<Figure size 400x800 with 1 Axes>"
      ]
     },
     "metadata": {},
     "output_type": "display_data"
    }
   ],
   "source": [
    "utterance_words_list = get_words_tokenized(utterances)\n",
    "word_counts_df = count_words(utterance_words_list)\n",
    "plot_words(word_counts_df, max_words=40)"
   ]
  },
  {
   "cell_type": "markdown",
   "id": "a7924bb7",
   "metadata": {},
   "source": [
    "Do you see a difference in the two plots?"
   ]
  },
  {
   "cell_type": "markdown",
   "id": "0d723848",
   "metadata": {},
   "source": [
    "### Strategy 2.5 : Remove punctuation"
   ]
  },
  {
   "cell_type": "code",
   "execution_count": 13,
   "id": "3fab39f3",
   "metadata": {},
   "outputs": [],
   "source": [
    "import string\n",
    "punctuations = string.punctuation + \"’\"\n",
    "\n",
    "def get_words_tokenized_nopunct(utterances, puncts=punctuations):\n",
    "    utterance_words_list = []\n",
    "    for utterance in utterances:\n",
    "        words = word_tokenize(utterance.lower())\n",
    "        words_no_punct = [word for word in words if not word in punctuations]\n",
    "        utterance_words_list.append(words_no_punct)\n",
    "    return utterance_words_list\n",
    "\n"
   ]
  },
  {
   "cell_type": "code",
   "execution_count": 14,
   "id": "b0a6bb30",
   "metadata": {},
   "outputs": [
    {
     "data": {
      "image/png": "[encoded data removed]",
      "text/plain": [
       "<Figure size 400x800 with 1 Axes>"
      ]
     },
     "metadata": {},
     "output_type": "display_data"
    }
   ],
   "source": [
    "utterance_words_list = get_words_tokenized_nopunct(utterances)\n",
    "word_counts_df = count_words(utterance_words_list)\n",
    "plot_words(word_counts_df, max_words=40)"
   ]
  },
  {
   "cell_type": "markdown",
   "id": "3c32b07f",
   "metadata": {},
   "source": [
    "### Strategy 3: Disregard Stop Words\n",
    "In the above plots, we have several occurrences of articles, prepositions, and pronouns (collectively termed \"stop words\" in natural language processing), which are not quite as interesting in identifying context as nouns, verbs, adjectives, and adverbs. Let's try and remove these."
   ]
  },
  {
   "cell_type": "code",
   "execution_count": 15,
   "id": "3df9bcb4",
   "metadata": {},
   "outputs": [],
   "source": [
    "import nltk\n",
    "from nltk.corpus import stopwords\n",
    "# nltk.download('stopwords') # uncomment and run this line the first time you run this code.\n",
    "stop_words = set(stopwords.words('english'))\n",
    "\n",
    "def get_words_tokenized_nopunct_nostop(utterances, puncts=punctuations, stop_w=stop_words):\n",
    "    utterance_words_list = []\n",
    "    for utterance in utterances:\n",
    "        words = word_tokenize(utterance.lower())\n",
    "        words_no_punct = [word for word in words if (not word in punctuations) and (not word in stop_w)]\n",
    "        utterance_words_list.append(words_no_punct)\n",
    "    return utterance_words_list\n"
   ]
  },
  {
   "cell_type": "code",
   "execution_count": 16,
   "id": "94393184",
   "metadata": {},
   "outputs": [
    {
     "data": {
      "image/png": "[encoded data removed]",
      "text/plain": [
       "<Figure size 400x800 with 1 Axes>"
      ]
     },
     "metadata": {},
     "output_type": "display_data"
    }
   ],
   "source": [
    "utterance_words_list = get_words_tokenized_nopunct_nostop(utterances)\n",
    "word_counts_df = count_words(utterance_words_list)\n",
    "plot_words(word_counts_df, max_words=40)"
   ]
  },
  {
   "cell_type": "markdown",
   "id": "a218143c",
   "metadata": {},
   "source": [
    "This is much better. What do you notice in your own reviews?"
   ]
  },
  {
   "cell_type": "markdown",
   "id": "c323b3c9",
   "metadata": {},
   "source": [
    "## Morphology (Skip for later?)\n",
    "Should `work` and `works` be treated differently or in the same way? Words like `gone`, `went`, `going` etc. are inflected forms of the base verb `go`. In natural language processing, substituting inflected forms with the base form is called **lemmatization** . Note that lemmatization is not always helpful and it really depends on what information you think is relevant for your analysis."
   ]
  },
  {
   "cell_type": "code",
   "execution_count": 17,
   "id": "aee80d82",
   "metadata": {},
   "outputs": [],
   "source": [
    "from nltk.stem import WordNetLemmatizer\n",
    "from nltk import pos_tag\n",
    "from nltk import word_tokenize\n",
    "from nltk.corpus import wordnet\n",
    "\n",
    "lemmatizer = WordNetLemmatizer()\n",
    "\n",
    "utterance_words_list = get_words_tokenized_nopunct_nostop(utterances)\n",
    "utterance_words_list_lemmatized = []\n",
    "\n",
    "def get_lemma(word):\n",
    "    \n",
    "    # pos_refs = {'n': ['NN', 'NNS', 'NNP', 'NNPS'],\n",
    "    #            'v': ['VB', 'VBD', 'VBG', 'VBN', 'VBP', 'VBZ'],\n",
    "    #            'r': ['RB', 'RBR', 'RBS'],\n",
    "    #            'a': ['JJ', 'JJR', 'JJS']}\n",
    "\n",
    "    pos_label = (pos_tag(word_tokenize(word))[0][1][0]).lower()\n",
    "    if pos_label == 'j': pos_label = 'a'    # 'j' <--> 'a' reassignment\n",
    "    if pos_label in ['a', 's', 'v']: # For adjectives and verbs\n",
    "        lemma = lemmatizer.lemmatize(word, pos=pos_label)\n",
    "    else:   # For nouns and everything else as it is the default kwarg\n",
    "        lemma = lemmatizer.lemmatize(word)\n",
    "    return lemma\n",
    "    \n",
    "    \n",
    "def get_lemmatized_utterance_text(utterance_words_list):\n",
    "    utterance_words_list_lemmatized = []\n",
    "    for utterance_words in utterance_words_list :\n",
    "        lemmatized_tokens = [get_lemma(word) for word in utterance_words]\n",
    "        utterance_words_list_lemmatized.append(lemmatized_tokens)\n",
    "    return utterance_words_list_lemmatized\n"
   ]
  },
  {
   "cell_type": "code",
   "execution_count": 18,
   "id": "5d9f059b",
   "metadata": {},
   "outputs": [
    {
     "data": {
      "image/png": "[encoded data removed]",
      "text/plain": [
       "<Figure size 400x800 with 1 Axes>"
      ]
     },
     "metadata": {},
     "output_type": "display_data"
    }
   ],
   "source": [
    "utterance_words_list_lemmatized = get_lemmatized_utterance_text(utterance_words_list)\n",
    "word_counts_df = count_words(utterance_words_list_lemmatized)\n",
    "plot_words(word_counts_df, max_words=40)"
   ]
  },
  {
   "cell_type": "markdown",
   "id": "ce091856",
   "metadata": {},
   "source": [
    "## Examining Contexts\n",
    "Now that you know what words are most frequent in your text, how do you know the context in which they are being used? We use Keyword in Context (KWIC) or 'text concordance' to examine the contexts in which a word is used."
   ]
  },
  {
   "cell_type": "code",
   "execution_count": 19,
   "id": "1b6980ba",
   "metadata": {},
   "outputs": [],
   "source": [
    "from nltk.text import Text\n",
    "from nltk.corpus import gutenberg\n",
    "\n",
    "full_path_to_data_folder = '/Users/schandrasegara/research/id5138-comptext/'\n",
    "\n",
    "utterance_text = ' '.join(utterances)\n",
    "with open('data/transcript-utterances.txt', 'w') as fo:\n",
    "    fo.write(utterance_text)\n",
    "## NOTE: substitute above string with the path you find in your system, starting with the root directory.\n",
    "\n",
    "text = Text(gutenberg.words( full_path_to_data_folder + 'data/text/transcript-utterances.txt'))"
   ]
  },
  {
   "cell_type": "code",
   "execution_count": 20,
   "id": "0c85e25b",
   "metadata": {},
   "outputs": [
    {
     "name": "stdout",
     "output_type": "stream",
     "text": [
      "Displaying 19 of 19 matches:\n",
      " ? Yeah , it ' s fine . Is our hands visible or ? Right . Yeah , because . Figure out what you would like\n",
      "ct ? Alright . But it ' s not a working product , right ? It ' s just a ... Yeah , no , of course not . Y\n",
      " Ohh no . Yeah , they don ' t hold much anymore , right ? It ' s not very sticky . No . Then we have just\n",
      " a photo from above so thatâ ¦ Ohh like this way right ? Nice . Do you know what kind of flyer it looks \n",
      "make supper . Is it pink ? Yes , Sakura is pink . Right . You know this ? Oh yeah . Ohh chrysanthemum . Y\n",
      "ll rice . Small rice ? Like or like this could be right ? Or a . It ' s like balls , right ? Yeah . We ma\n",
      " this could be right ? Or a . It ' s like balls , right ? Yeah . We make rice into like . And maybe you c\n",
      " . And yeah , this is . Yeah , this is a salmon , right ? Salmon . Salmon . Ohh . And maybe the rice is t\n",
      "don ' t know . I don ' t know . It ' s Japanese , right ? Yes , all this sushi name is translate from Jap\n",
      ". Hmm , very tasty . Use the napkin to take one . Right . This . One piece of napkin . Yeah . Nice . Perf\n",
      " s enough . Yeah . And then we just added video , right ? We do have . Oh , yeah , we do . Should we do i\n",
      "eed to upload for audio , but we should have that right . Yeah . It is a 2 minute video to present the ou\n",
      "t . The outcome maybe ? Yeah , just the outcome , right . Yeah , just represents the outcome of the proce\n",
      "ong . OK . But but we we need two minutes video , right ? Right . It ' s going to be boring to watch this\n",
      " . But but we we need two minutes video , right ? Right . It ' s going to be boring to watch this for so \n",
      " . I ' ll see how . I think this one looks fine , right ? Yeah , although it ' s shorter . So we keep sou\n",
      ". The other one . OK . Yeah . OK . And our name , right ? Yeah , our names , put our names , video title \n",
      "s before ? This one can be like . Here . That ' s right . Any time . Can you ? I think one last thing is \n",
      "e time to the first screen ? It ' s in the middle right ? The text . The title ? Yeah . OK . Yeah . OK , \n"
     ]
    }
   ],
   "source": [
    "text.concordance('right', width=105, lines=25)"
   ]
  },
  {
   "cell_type": "markdown",
   "id": "034b082e",
   "metadata": {},
   "source": [
    "## Computing some overall statistics\n",
    "Let's get a non-content-level overview of the discussion"
   ]
  },
  {
   "cell_type": "code",
   "execution_count": 21,
   "id": "d71b70be",
   "metadata": {},
   "outputs": [
    {
     "name": "stdout",
     "output_type": "stream",
     "text": [
      "501 utterances loaded with an average utterance length of 5 words\n",
      "and a median of 4 words\n"
     ]
    }
   ],
   "source": [
    "import statistics\n",
    "\n",
    "utterance_words_list = get_words_tokenized_nopunct(utterances)\n",
    "utterance_lengths = [len(utterance_words) for utterance_words in utterance_words_list]\n",
    "mean_utterance_length = round(statistics.mean(utterance_lengths))\n",
    "median_utterance_length = statistics.median(utterance_lengths)\n",
    "\n",
    "print(f'{len(utterances)} utterances loaded with an average utterance length of {mean_utterance_length} words\\n'+\n",
    "      f'and a median of {median_utterance_length} words')"
   ]
  },
  {
   "cell_type": "code",
   "execution_count": 22,
   "id": "69f7179d",
   "metadata": {},
   "outputs": [
    {
     "name": "stdout",
     "output_type": "stream",
     "text": [
      "[['just', 'record', 'the', 'voice', 'and', 'then', 'next', 'we', 'can', 'do', 'something', '...'], ['yes'], ['but', 'we', 'need', 'to', 'make', 'a', 'video', 'as', 'well']]\n"
     ]
    }
   ],
   "source": [
    "print(utterance_words_list[:3])"
   ]
  },
  {
   "cell_type": "code",
   "execution_count": 23,
   "id": "5846e139",
   "metadata": {},
   "outputs": [
    {
     "data": {
      "text/plain": [
       "Text(0.5, 0, 'utterance length in words')"
      ]
     },
     "execution_count": 23,
     "metadata": {},
     "output_type": "execute_result"
    },
    {
     "data": {
      "image/png": "[encoded data removed]",
      "text/plain": [
       "<Figure size 1000x400 with 1 Axes>"
      ]
     },
     "metadata": {},
     "output_type": "display_data"
    }
   ],
   "source": [
    "sns.set_theme('notebook')\n",
    "sns.set_style('ticks')\n",
    "plt.figure(figsize=(10,4), dpi=100)\n",
    "g = sns.histplot(utterance_lengths)\n",
    "g.set_ylabel('Number of utterances')\n",
    "g.set_xlabel('utterance length in words')"
   ]
  },
  {
   "cell_type": "code",
   "execution_count": 24,
   "id": "4c8db581",
   "metadata": {},
   "outputs": [
    {
     "data": {
      "text/html": [
       "<div>\n",
       "<style scoped>\n",
       "    .dataframe tbody tr th:only-of-type {\n",
       "        vertical-align: middle;\n",
       "    }\n",
       "\n",
       "    .dataframe tbody tr th {\n",
       "        vertical-align: top;\n",
       "    }\n",
       "\n",
       "    .dataframe thead th {\n",
       "        text-align: right;\n",
       "    }\n",
       "</style>\n",
       "<table border=\"1\" class=\"dataframe\">\n",
       "  <thead>\n",
       "    <tr style=\"text-align: right;\">\n",
       "      <th></th>\n",
       "      <th>utterance</th>\n",
       "      <th>length_in_words</th>\n",
       "    </tr>\n",
       "  </thead>\n",
       "  <tbody>\n",
       "    <tr>\n",
       "      <th>460</th>\n",
       "      <td>Put in brackets.</td>\n",
       "      <td>3</td>\n",
       "    </tr>\n",
       "    <tr>\n",
       "      <th>224</th>\n",
       "      <td>I can't eat this.</td>\n",
       "      <td>5</td>\n",
       "    </tr>\n",
       "    <tr>\n",
       "      <th>200</th>\n",
       "      <td>Yeah.</td>\n",
       "      <td>1</td>\n",
       "    </tr>\n",
       "    <tr>\n",
       "      <th>331</th>\n",
       "      <td>OK.</td>\n",
       "      <td>1</td>\n",
       "    </tr>\n",
       "    <tr>\n",
       "      <th>488</th>\n",
       "      <td>(Whispering)</td>\n",
       "      <td>1</td>\n",
       "    </tr>\n",
       "  </tbody>\n",
       "</table>\n",
       "</div>"
      ],
      "text/plain": [
       "             utterance  length_in_words\n",
       "460   Put in brackets.                3\n",
       "224  I can't eat this.                5\n",
       "200              Yeah.                1\n",
       "331                OK.                1\n",
       "488       (Whispering)                1"
      ]
     },
     "execution_count": 24,
     "metadata": {},
     "output_type": "execute_result"
    }
   ],
   "source": [
    "df = pd.DataFrame({'utterance' : utterances, 'length_in_words' : utterance_lengths})\n",
    "df.sample(5)"
   ]
  },
  {
   "cell_type": "code",
   "execution_count": 25,
   "id": "b11eb307",
   "metadata": {},
   "outputs": [
    {
     "name": "stdout",
     "output_type": "stream",
     "text": [
      "186 of 501 utterances (37%) are of above-average length.\n"
     ]
    }
   ],
   "source": [
    "long_utterances_df = df[df['length_in_words'] > mean_utterance_length]\n",
    "short_utterances_df = df[df['length_in_words'] <= mean_utterance_length]\n",
    "print(f'{long_utterances_df.shape[0]} of {df.shape[0]} utterances ({long_utterances_df.shape[0]/df.shape[0] :.0%}) are of above-average length.')"
   ]
  },
  {
   "cell_type": "markdown",
   "id": "ebb24d5f",
   "metadata": {},
   "source": [
    "## Exercise\n",
    "Compare speech turns by individual interlocutors. Try and figure out the following:\n",
    "1. Who spoke more than others? What are different ways in which you can interpret this question?\n",
    "2. Was there a difference in what each speaker said?\n",
    "3. How did the final idea emerge?\n",
    "\n",
    "Some tips:"
   ]
  },
  {
   "cell_type": "code",
   "execution_count": 26,
   "id": "17378fcd-07f9-4e00-8b63-2255ae5cb9d3",
   "metadata": {},
   "outputs": [
    {
     "data": {
      "text/plain": [
       "['Daniel', 'Unclear', 'George']"
      ]
     },
     "execution_count": 26,
     "metadata": {},
     "output_type": "execute_result"
    }
   ],
   "source": [
    "speakerlist = list(unique_speakers) # make a list\n",
    "speakerlist.pop()                   # remove 'Unclear' speaker\n",
    "speakerlist"
   ]
  },
  {
   "cell_type": "code",
   "execution_count": 28,
   "id": "de1025f3",
   "metadata": {},
   "outputs": [
    {
     "name": "stdout",
     "output_type": "stream",
     "text": [
      "Number of speech turns by Yuxuan: 94\n"
     ]
    }
   ],
   "source": [
    "yux_utterances = transcript_df[transcript_df['speaker'] == 'Yuxuan']['utterance']\n",
    "print('Number of speech turns by Yuxuan:', len(yux_utterances))\n"
   ]
  },
  {
   "cell_type": "code",
   "execution_count": null,
   "id": "bffc7dfb-e0c4-4730-8e19-092110256fa6",
   "metadata": {},
   "outputs": [],
   "source": []
  }
 ],
 "metadata": {
  "kernelspec": {
   "display_name": "Python 3 (ipykernel)",
   "language": "python",
   "name": "python3"
  },
  "language_info": {
   "codemirror_mode": {
    "name": "ipython",
    "version": 3
   },
   "file_extension": ".py",
   "mimetype": "text/x-python",
   "name": "python",
   "nbconvert_exporter": "python",
   "pygments_lexer": "ipython3",
   "version": "3.12.2"
  }
 },
 "nbformat": 4,
 "nbformat_minor": 5
}
